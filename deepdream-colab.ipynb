{
  "cells": [
    {
      "cell_type": "markdown",
      "metadata": {
        "id": "view-in-github",
        "colab_type": "text"
      },
      "source": [
        "<a href=\"https://colab.research.google.com/github/salty-muffin/deepdream/blob/master/deepdream-colab.ipynb\" target=\"_parent\"><img src=\"https://colab.research.google.com/assets/colab-badge.svg\" alt=\"Open In Colab\"/></a>"
      ]
    },
    {
      "cell_type": "markdown",
      "source": [
        "### install all dependencies"
      ],
      "metadata": {
        "id": "InLENmoFwB8i"
      }
    },
    {
      "cell_type": "markdown",
      "source": [
        "### connect to the drive"
      ],
      "metadata": {
        "id": "m1b5UUm0wLiX"
      }
    },
    {
      "cell_type": "code",
      "execution_count": 1,
      "metadata": {
        "colab": {
          "base_uri": "https://localhost:8080/"
        },
        "id": "uYnRqDSuTwMT",
        "outputId": "58a824ba-4546-4f24-e191-e64bc4ce60fa"
      },
      "outputs": [
        {
          "output_type": "stream",
          "name": "stdout",
          "text": [
            "Drive already mounted at /content/drive; to attempt to forcibly remount, call drive.mount(\"/content/drive\", force_remount=True).\n"
          ]
        }
      ],
      "source": [
        "from google.colab import drive\n",
        "drive.mount('/content/drive')"
      ]
    },
    {
      "cell_type": "markdown",
      "source": [
        "### clone the repository"
      ],
      "metadata": {
        "id": "zJinwaDcwR1R"
      }
    },
    {
      "cell_type": "code",
      "execution_count": 2,
      "metadata": {
        "colab": {
          "base_uri": "https://localhost:8080/"
        },
        "id": "W7YluRZsx88A",
        "outputId": "913ff7ee-5540-4ac7-f012-3c8aec48f6ed"
      },
      "outputs": [
        {
          "output_type": "stream",
          "name": "stdout",
          "text": [
            "Cloning into 'deepdream'...\n",
            "remote: Enumerating objects: 383, done.\u001b[K\n",
            "remote: Counting objects: 100% (180/180), done.\u001b[K\n",
            "remote: Compressing objects: 100% (39/39), done.\u001b[K\n",
            "remote: Total 383 (delta 151), reused 155 (delta 138), pack-reused 203\u001b[K\n",
            "Receiving objects: 100% (383/383), 28.65 MiB | 37.90 MiB/s, done.\n",
            "Resolving deltas: 100% (188/188), done.\n",
            "/content/deepdream\n"
          ]
        }
      ],
      "source": [
        "!git clone https://github.com/salty-muffin/deepdream.git\n",
        "%cd deepdream"
      ]
    },
    {
      "cell_type": "markdown",
      "source": [
        "### generate video"
      ],
      "metadata": {
        "id": "qGz6DNLowYFl"
      }
    },
    {
      "cell_type": "code",
      "execution_count": null,
      "metadata": {
        "id": "3eE9vfvKyI6g"
      },
      "outputs": [],
      "source": [
        "!python deepdream.py --input /content/drive/MyDrive/deepdream/clean.mp4 --pyramid_size 2 --out_dir /content/drive/MyDrive/deepdream/out --img_width 1920"
      ]
    },
    {
      "cell_type": "markdown",
      "source": [
        "### generate image"
      ],
      "metadata": {
        "id": "f8BCZ5vewVdR"
      }
    },
    {
      "cell_type": "code",
      "execution_count": 3,
      "metadata": {
        "colab": {
          "base_uri": "https://localhost:8080/"
        },
        "id": "SxGQWvkNUfgb",
        "outputId": "c62db286-538f-44c0-e4f4-85c78c68bc52"
      },
      "outputs": [
        {
          "output_type": "stream",
          "name": "stdout",
          "text": [
            "/usr/local/lib/python3.9/dist-packages/torchvision/models/_utils.py:208: UserWarning: The parameter 'pretrained' is deprecated since 0.13 and may be removed in the future, please use 'weights' instead.\n",
            "  warnings.warn(\n",
            "/usr/local/lib/python3.9/dist-packages/torchvision/models/_utils.py:223: UserWarning: Arguments other than a weight enum or `None` for 'weights' are deprecated since 0.13 and may be removed in the future. The current behavior is equivalent to passing `weights=VGG16_Weights.IMAGENET1K_V1`. You can also use `weights=VGG16_Weights.DEFAULT` to get the most up-to-date weights.\n",
            "  warnings.warn(msg)\n",
            "Downloading: \"https://download.pytorch.org/models/vgg16-397923af.pth\" to /root/.cache/torch/hub/checkpoints/vgg16-397923af.pth\n",
            "100% 528M/528M [00:01<00:00, 290MB/s]\n",
            "/usr/local/lib/python3.9/dist-packages/torch/functional.py:504: UserWarning: torch.meshgrid: in an upcoming release, it will be required to pass the indexing argument. (Triggered internally at ../aten/src/ATen/native/TensorShape.cpp:3483.)\n",
            "  return _VF.meshgrid(tensors, **kwargs)  # type: ignore[attr-defined]\n"
          ]
        }
      ],
      "source": [
        "!python deepdream.py --input /content/drive/MyDrive/deepdream/test_still.jpg --pyramid_size 2 --out_dir /content/drive/MyDrive/deepdream/out"
      ]
    }
  ],
  "metadata": {
    "accelerator": "GPU",
    "colab": {
      "provenance": [],
      "mount_file_id": "1WQQ-aae3Id-PZvF_sPGsLY1kGvl3QXSx",
      "authorship_tag": "ABX9TyPNrMAcsYyK18qJFvaG0gbT",
      "include_colab_link": true
    },
    "gpuClass": "standard",
    "kernelspec": {
      "display_name": "Python 3",
      "name": "python3"
    },
    "language_info": {
      "name": "python"
    }
  },
  "nbformat": 4,
  "nbformat_minor": 0
}